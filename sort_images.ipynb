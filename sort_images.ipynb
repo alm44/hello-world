{
  "nbformat": 4,
  "nbformat_minor": 0,
  "metadata": {
    "kernelspec": {
      "display_name": "Python 3",
      "language": "python",
      "name": "python3"
    },
    "language_info": {
      "codemirror_mode": {
        "name": "ipython",
        "version": 3
      },
      "file_extension": ".py",
      "mimetype": "text/x-python",
      "name": "python",
      "nbconvert_exporter": "python",
      "pygments_lexer": "ipython3",
      "version": "3.7.6"
    },
    "colab": {
      "name": "sort_images.ipynb",
      "provenance": [],
      "include_colab_link": true
    }
  },
  "cells": [
    {
      "cell_type": "markdown",
      "metadata": {
        "id": "view-in-github",
        "colab_type": "text"
      },
      "source": [
        "<a href=\"https://colab.research.google.com/github/almoisson/hello-world/blob/master/sort_images.ipynb\" target=\"_parent\"><img src=\"https://colab.research.google.com/assets/colab-badge.svg\" alt=\"Open In Colab\"/></a>"
      ]
    },
    {
      "cell_type": "code",
      "metadata": {
        "id": "-0niPDsOpe5I",
        "colab_type": "code",
        "colab": {},
        "outputId": "7b38fef0-fde7-4f58-e79f-c999198b5f65"
      },
      "source": [
        "import os\n",
        "os.chdir('/Users/anne-laure/Documents/ml_projects/deep_palm/')\n",
        "os.getcwd()\n",
        "filter(os.path.isdir, os.listdir(os.getcwd()))"
      ],
      "execution_count": 0,
      "outputs": [
        {
          "output_type": "execute_result",
          "data": {
            "text/plain": [
              "<filter at 0x11b0b6410>"
            ]
          },
          "metadata": {
            "tags": []
          },
          "execution_count": 16
        }
      ]
    },
    {
      "cell_type": "code",
      "metadata": {
        "id": "ymO5j8ONpe5Q",
        "colab_type": "code",
        "colab": {},
        "outputId": "c1480559-7cd0-4bd6-e5cd-74d1d99fd87f"
      },
      "source": [
        "import pandas as pd\n",
        "\n",
        "# load train labels in a dataframe\n",
        "df_train_labels = pd.read_csv('ISIC_2019_Training_GroundTruth.csv')\n",
        "print(df_train_labels.columns[1:10])"
      ],
      "execution_count": 0,
      "outputs": [
        {
          "output_type": "stream",
          "text": [
            "Index(['MEL', 'NV', 'BCC', 'AK', 'BKL', 'DF', 'VASC', 'SCC'], dtype='object')\n"
          ],
          "name": "stdout"
        }
      ]
    },
    {
      "cell_type": "code",
      "metadata": {
        "id": "7f6WOwDFpe5U",
        "colab_type": "code",
        "colab": {},
        "outputId": "0aa0bc87-46ca-4c0b-9948-d71c943294fe"
      },
      "source": [
        "# create a sub-directory for each class in the directory ISIC_data/\n",
        "os.chdir('ISIC_data')\n",
        "os.getcwd()\n",
        "\n",
        "for col in df_train_labels.columns[1:10]: # start at 1 to avoid column 'image'\n",
        "    os.mkdir(col)\n",
        "    print(\"Succesfully created folder %s\" % col)\n",
        "\n",
        "os.listdir()\n",
        "os.chdir('/Users/anne-laure/Documents/ml_projects/deep_palm/')"
      ],
      "execution_count": 0,
      "outputs": [
        {
          "output_type": "stream",
          "text": [
            "Succesfully created folder MEL\n",
            "Succesfully created folder NV\n",
            "Succesfully created folder BCC\n",
            "Succesfully created folder AK\n",
            "Succesfully created folder BKL\n",
            "Succesfully created folder DF\n",
            "Succesfully created folder VASC\n",
            "Succesfully created folder SCC\n",
            "Succesfully created folder UNK\n"
          ],
          "name": "stdout"
        }
      ]
    },
    {
      "cell_type": "code",
      "metadata": {
        "id": "0fUczV4Fpe5Y",
        "colab_type": "code",
        "colab": {}
      },
      "source": [
        "from shutil import copyfile, move\n",
        "\n",
        "# we could also use move instead of copy\n",
        "\n",
        "def copy_file_to_folder(input_path,label):\n",
        "    \"\"\"\n",
        "    Copies a file to a new label folder using the shutil library.\n",
        "    The file will be copied into a subdirectory called label in the input folder.\n",
        "    :param input_path: Path of the original image\n",
        "    :param label: The label\n",
        "    \"\"\"\n",
        "    \n",
        "    root, file_name = os.path.split(input_path) #returns a tuple (head, tail) with tail the last directory and head all the rest of the path\n",
        "    output_path = os.path.join(root, label, file_name)\n",
        "    # check if the file already exists\n",
        "    if not(os.path.isfile(output_path)):\n",
        "        print(\" %s --> %s\" % (file_name, label))\n",
        "        copyfile(input_path, output_path) # copyfile to copy or move\n",
        "    else: \n",
        "        return\n"
      ],
      "execution_count": 0,
      "outputs": []
    },
    {
      "cell_type": "code",
      "metadata": {
        "id": "ZI58kuNRpe5c",
        "colab_type": "code",
        "colab": {}
      },
      "source": [
        "input_path = 'ISIC_data/ISIC_0000001.jpg'\n",
        "label = 'NV'\n",
        "copy_file_to_folder(input_path, label)\n"
      ],
      "execution_count": 0,
      "outputs": []
    },
    {
      "cell_type": "code",
      "metadata": {
        "id": "dt0l7Sc-pe5f",
        "colab_type": "code",
        "colab": {},
        "outputId": "9f65c6e7-21b0-4719-e816-b85f31e8a185"
      },
      "source": [
        "# iterate on dataframe rows\n",
        "# find the category for each row\n",
        "# copy the image to the corresponding sub-directory\n",
        "for index,row in df_train_labels.iterrows():\n",
        "    for col in df_train_labels.columns[1:10]:\n",
        "        if df_train_labels.get_value(index,col)==1:\n",
        "            if os.path.exists('ISIC_data/'+ df_train_labels['image'][index]+'.jpg'): \n",
        "                copy_file_to_folder('ISIC_data/'+ df_train_labels['image'][index]+'.jpg', col)\n"
      ],
      "execution_count": 0,
      "outputs": [
        {
          "output_type": "stream",
          "text": [
            "/Users/anne-laure/anaconda3/lib/python3.7/site-packages/ipykernel_launcher.py:6: FutureWarning: get_value is deprecated and will be removed in a future release. Please use .at[] or .iat[] accessors instead\n",
            "  \n"
          ],
          "name": "stderr"
        },
        {
          "output_type": "stream",
          "text": [
            " ISIC_0000000.jpg --> NV\n",
            " ISIC_0000002.jpg --> MEL\n",
            " ISIC_0000003.jpg --> NV\n",
            " ISIC_0000004.jpg --> MEL\n",
            " ISIC_0000006.jpg --> NV\n",
            " ISIC_0000007.jpg --> NV\n",
            " ISIC_0000008.jpg --> NV\n",
            " ISIC_0000009.jpg --> NV\n",
            " ISIC_0000010.jpg --> NV\n",
            " ISIC_0000011.jpg --> NV\n",
            " ISIC_0000012.jpg --> NV\n",
            " ISIC_0000013.jpg --> MEL\n",
            " ISIC_0000014.jpg --> NV\n",
            " ISIC_0000015.jpg --> NV\n",
            " ISIC_0000016.jpg --> NV\n",
            " ISIC_0000017_downsampled.jpg --> NV\n",
            " ISIC_0000018_downsampled.jpg --> NV\n",
            " ISIC_0000019_downsampled.jpg --> NV\n",
            " ISIC_0000020_downsampled.jpg --> NV\n",
            " ISIC_0000021_downsampled.jpg --> NV\n",
            " ISIC_0000022_downsampled.jpg --> MEL\n",
            " ISIC_0000023_downsampled.jpg --> NV\n",
            " ISIC_0000024_downsampled.jpg --> NV\n",
            " ISIC_0000025_downsampled.jpg --> NV\n",
            " ISIC_0000026_downsampled.jpg --> MEL\n",
            " ISIC_0000027_downsampled.jpg --> NV\n",
            " ISIC_0000028_downsampled.jpg --> NV\n",
            " ISIC_0000029_downsampled.jpg --> MEL\n",
            " ISIC_0000030_downsampled.jpg --> MEL\n",
            " ISIC_0000031_downsampled.jpg --> MEL\n",
            " ISIC_0000032_downsampled.jpg --> NV\n",
            " ISIC_0000034_downsampled.jpg --> NV\n",
            " ISIC_0000035_downsampled.jpg --> MEL\n",
            " ISIC_0000036_downsampled.jpg --> MEL\n",
            " ISIC_0000037_downsampled.jpg --> NV\n",
            " ISIC_0000038_downsampled.jpg --> NV\n",
            " ISIC_0000039_downsampled.jpg --> NV\n",
            " ISIC_0000040_downsampled.jpg --> MEL\n",
            " ISIC_0000041_downsampled.jpg --> NV\n",
            " ISIC_0000042_downsampled.jpg --> NV\n",
            " ISIC_0000043_downsampled.jpg --> MEL\n",
            " ISIC_0000044_downsampled.jpg --> NV\n",
            " ISIC_0000045_downsampled.jpg --> NV\n",
            " ISIC_0000046_downsampled.jpg --> MEL\n",
            " ISIC_0000047_downsampled.jpg --> NV\n",
            " ISIC_0000048_downsampled.jpg --> NV\n",
            " ISIC_0000049_downsampled.jpg --> MEL\n",
            " ISIC_0000050_downsampled.jpg --> NV\n",
            " ISIC_0000051_downsampled.jpg --> NV\n",
            " ISIC_0000052_downsampled.jpg --> NV\n",
            " ISIC_0000053_downsampled.jpg --> NV\n",
            " ISIC_0000054_downsampled.jpg --> MEL\n",
            " ISIC_0000055_downsampled.jpg --> NV\n",
            " ISIC_0000056_downsampled.jpg --> MEL\n",
            " ISIC_0000057_downsampled.jpg --> NV\n",
            " ISIC_0000058_downsampled.jpg --> NV\n",
            " ISIC_0000059_downsampled.jpg --> NV\n",
            " ISIC_0000060_downsampled.jpg --> NV\n",
            " ISIC_0000061_downsampled.jpg --> NV\n",
            " ISIC_0000062_downsampled.jpg --> NV\n",
            " ISIC_0000063_downsampled.jpg --> NV\n",
            " ISIC_0000064_downsampled.jpg --> NV\n",
            " ISIC_0000065_downsampled.jpg --> NV\n",
            " ISIC_0000066.jpg --> NV\n",
            " ISIC_0000067.jpg --> NV\n",
            " ISIC_0000068.jpg --> NV\n",
            " ISIC_0000069.jpg --> NV\n",
            " ISIC_0000071.jpg --> NV\n"
          ],
          "name": "stdout"
        }
      ]
    },
    {
      "cell_type": "code",
      "metadata": {
        "id": "LSKiWJY7pe5j",
        "colab_type": "code",
        "colab": {}
      },
      "source": [
        ""
      ],
      "execution_count": 0,
      "outputs": []
    }
  ]
}